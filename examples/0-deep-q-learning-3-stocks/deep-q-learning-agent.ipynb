{
 "cells": [
  {
   "cell_type": "code",
   "execution_count": 1,
   "metadata": {},
   "outputs": [
    {
     "name": "stderr",
     "output_type": "stream",
     "text": [
      "Using TensorFlow backend.\n"
     ]
    }
   ],
   "source": [
    "import pickle\n",
    "import time\n",
    "import numpy as np\n",
    "import re\n",
    "import matplotlib.pyplot as plt\n",
    "import pandas as pd\n",
    "import glob\n",
    "import os\n",
    "from statistics import median\n",
    "\n",
    "from envs import TradingEnv\n",
    "from agent import DQNAgent\n",
    "from utils import get_data, get_scaler\n",
    "\n",
    "# Auto reload\n",
    "%load_ext autoreload\n",
    "%autoreload 2"
   ]
  },
  {
   "cell_type": "code",
   "execution_count": 2,
   "metadata": {},
   "outputs": [],
   "source": [
    "data = np.around(get_data())\n",
    "train_data = data[:, :3526]\n",
    "test_data = data[:, 3526:]"
   ]
  },
  {
   "cell_type": "code",
   "execution_count": 3,
   "metadata": {},
   "outputs": [],
   "source": [
    "episode=2000\n",
    "batch_size=32\n",
    "initial_invest=20000"
   ]
  },
  {
   "cell_type": "code",
   "execution_count": 4,
   "metadata": {},
   "outputs": [
    {
     "name": "stdout",
     "output_type": "stream",
     "text": [
      "WARNING:tensorflow:From /usr/local/lib/python3.7/site-packages/keras/backend/tensorflow_backend.py:66: The name tf.get_default_graph is deprecated. Please use tf.compat.v1.get_default_graph instead.\n",
      "\n",
      "WARNING:tensorflow:From /usr/local/lib/python3.7/site-packages/keras/backend/tensorflow_backend.py:541: The name tf.placeholder is deprecated. Please use tf.compat.v1.placeholder instead.\n",
      "\n",
      "WARNING:tensorflow:From /usr/local/lib/python3.7/site-packages/keras/backend/tensorflow_backend.py:4432: The name tf.random_uniform is deprecated. Please use tf.random.uniform instead.\n",
      "\n",
      "WARNING:tensorflow:From /usr/local/lib/python3.7/site-packages/keras/optimizers.py:793: The name tf.train.Optimizer is deprecated. Please use tf.compat.v1.train.Optimizer instead.\n",
      "\n",
      "Model: \"sequential_1\"\n",
      "_________________________________________________________________\n",
      "Layer (type)                 Output Shape              Param #   \n",
      "=================================================================\n",
      "dense_1 (Dense)              (None, 32)                256       \n",
      "_________________________________________________________________\n",
      "dense_2 (Dense)              (None, 32)                1056      \n",
      "_________________________________________________________________\n",
      "dense_3 (Dense)              (None, 27)                891       \n",
      "=================================================================\n",
      "Total params: 2,203\n",
      "Trainable params: 2,203\n",
      "Non-trainable params: 0\n",
      "_________________________________________________________________\n",
      "None\n"
     ]
    }
   ],
   "source": [
    "env = TradingEnv(train_data, initial_invest)\n",
    "state_size = env.observation_space.shape\n",
    "action_size = env.action_space.n\n",
    "agent = DQNAgent(state_size, action_size)\n",
    "scaler = get_scaler(env)\n",
    "train_results = pd.DataFrame()"
   ]
  },
  {
   "cell_type": "markdown",
   "metadata": {},
   "source": [
    "## Train"
   ]
  },
  {
   "cell_type": "code",
   "execution_count": 5,
   "metadata": {
    "scrolled": true
   },
   "outputs": [
    {
     "name": "stdout",
     "output_type": "stream",
     "text": [
      "WARNING:tensorflow:From /usr/local/lib/python3.7/site-packages/keras/backend/tensorflow_backend.py:3005: The name tf.Session is deprecated. Please use tf.compat.v1.Session instead.\n",
      "\n",
      "WARNING:tensorflow:From /usr/local/lib/python3.7/site-packages/keras/backend/tensorflow_backend.py:190: The name tf.get_default_session is deprecated. Please use tf.compat.v1.get_default_session instead.\n",
      "\n",
      "....................\n",
      "episode: 20/2000, median profit so far: 20301.0\n",
      "....................\n",
      "episode: 40/2000, median profit so far: 26456.0\n",
      "....................\n",
      "episode: 60/2000, median profit so far: 27492.0\n",
      "....................\n",
      "episode: 80/2000, median profit so far: 25428.0\n",
      "....................\n",
      "episode: 100/2000, median profit so far: 25831.0\n",
      "....................\n",
      "episode: 120/2000, median profit so far: 26511.0\n",
      "....................\n",
      "episode: 140/2000, median profit so far: 27492.0\n",
      "....................\n",
      "episode: 160/2000, median profit so far: 26511.0\n",
      "....................\n",
      "episode: 180/2000, median profit so far: 25290.0\n",
      "....................\n",
      "episode: 200/2000, median profit so far: 25290.0\n",
      "....................\n",
      "episode: 220/2000, median profit so far: 25223.0\n",
      "....................\n",
      "episode: 240/2000, median profit so far: 25460.0\n",
      "....................\n",
      "episode: 260/2000, median profit so far: 26456.0\n",
      "....................\n",
      "episode: 280/2000, median profit so far: 27878.0\n",
      "....................\n",
      "episode: 300/2000, median profit so far: 29372.0\n",
      "....................\n",
      "episode: 320/2000, median profit so far: 30133.0\n",
      "....................\n",
      "episode: 340/2000, median profit so far: 30991.0\n",
      "....................\n",
      "episode: 360/2000, median profit so far: 31274.0\n",
      "....................\n",
      "episode: 380/2000, median profit so far: 31555.0\n",
      "....................\n",
      "episode: 400/2000, median profit so far: 31621.0\n",
      "....................\n",
      "episode: 420/2000, median profit so far: 31894.0\n",
      "....................\n",
      "episode: 440/2000, median profit so far: 32149.0\n",
      "....................\n",
      "episode: 460/2000, median profit so far: 32238.0\n",
      "....................\n",
      "episode: 480/2000, median profit so far: 32238.0\n",
      "....................\n",
      "episode: 500/2000, median profit so far: 32381.0\n",
      "....................\n",
      "episode: 520/2000, median profit so far: 32402.0\n",
      "....................\n",
      "episode: 540/2000, median profit so far: 32498.0\n",
      "....................\n",
      "episode: 560/2000, median profit so far: 32536.0\n",
      "....................\n",
      "episode: 580/2000, median profit so far: 32627.0\n",
      "....................\n",
      "episode: 600/2000, median profit so far: 32627.0\n",
      "....................\n",
      "episode: 620/2000, median profit so far: 32732.0\n",
      "....................\n",
      "episode: 640/2000, median profit so far: 32732.0\n",
      "....................\n",
      "episode: 660/2000, median profit so far: 32783.0\n",
      "....................\n",
      "episode: 680/2000, median profit so far: 32849.0\n",
      "....................\n",
      "episode: 700/2000, median profit so far: 32921.0\n",
      "....................\n",
      "episode: 720/2000, median profit so far: 32957.0\n",
      "....................\n",
      "episode: 740/2000, median profit so far: 33025.0\n",
      "....................\n",
      "episode: 760/2000, median profit so far: 33142.0\n",
      "....................\n",
      "episode: 780/2000, median profit so far: 33150.0\n",
      "....................\n",
      "episode: 800/2000, median profit so far: 33170.0\n",
      "....................\n",
      "episode: 820/2000, median profit so far: 33185.0\n",
      "....................\n",
      "episode: 840/2000, median profit so far: 33190.0\n",
      "....................\n",
      "episode: 860/2000, median profit so far: 33202.0\n",
      "....................\n",
      "episode: 880/2000, median profit so far: 33210.0\n",
      "....................\n",
      "episode: 900/2000, median profit so far: 33227.0\n",
      "....................\n",
      "episode: 920/2000, median profit so far: 33227.0\n",
      "....................\n",
      "episode: 940/2000, median profit so far: 33239.0\n",
      "....................\n",
      "episode: 960/2000, median profit so far: 33227.0\n",
      "....................\n",
      "episode: 980/2000, median profit so far: 33239.0\n",
      "....................\n",
      "episode: 1000/2000, median profit so far: 33277.0\n",
      "....................\n",
      "episode: 1020/2000, median profit so far: 33284.0\n",
      "....................\n",
      "episode: 1040/2000, median profit so far: 33250.0\n",
      "....................\n",
      "episode: 1060/2000, median profit so far: 33244.0\n",
      "....................\n",
      "episode: 1080/2000, median profit so far: 33227.0\n",
      "....................\n",
      "episode: 1100/2000, median profit so far: 33216.0\n",
      "....................\n",
      "episode: 1120/2000, median profit so far: 33216.0\n",
      "....................\n",
      "episode: 1140/2000, median profit so far: 33220.0\n",
      "....................\n",
      "episode: 1160/2000, median profit so far: 33250.0\n",
      "....................\n",
      "episode: 1180/2000, median profit so far: 33244.0\n",
      "....................\n",
      "episode: 1200/2000, median profit so far: 33244.0\n",
      "....................\n",
      "episode: 1220/2000, median profit so far: 33244.0\n",
      "....................\n",
      "episode: 1240/2000, median profit so far: 33250.0\n",
      "....................\n",
      "episode: 1260/2000, median profit so far: 33257.0\n",
      "....................\n",
      "episode: 1280/2000, median profit so far: 33277.0\n",
      "....................\n",
      "episode: 1300/2000, median profit so far: 33277.0\n",
      "....................\n",
      "episode: 1320/2000, median profit so far: 33277.0\n",
      "....................\n",
      "episode: 1340/2000, median profit so far: 33287.0\n",
      "....................\n",
      "episode: 1360/2000, median profit so far: 33309.0\n",
      "....................\n",
      "episode: 1380/2000, median profit so far: 33323.0\n",
      "....................\n",
      "episode: 1400/2000, median profit so far: 33322.0\n",
      "....................\n",
      "episode: 1420/2000, median profit so far: 33322.0\n",
      "....................\n",
      "episode: 1440/2000, median profit so far: 33325.0\n",
      "....................\n",
      "episode: 1460/2000, median profit so far: 33355.0\n",
      "....................\n",
      "episode: 1480/2000, median profit so far: 33353.0\n",
      "....................\n",
      "episode: 1500/2000, median profit so far: 33359.0\n",
      "....................\n",
      "episode: 1520/2000, median profit so far: 33380.0\n",
      "....................\n",
      "episode: 1540/2000, median profit so far: 33382.0\n",
      "....................\n",
      "episode: 1560/2000, median profit so far: 33380.0\n",
      "....................\n",
      "episode: 1580/2000, median profit so far: 33380.0\n",
      "....................\n",
      "episode: 1600/2000, median profit so far: 33380.0\n",
      "....................\n",
      "episode: 1620/2000, median profit so far: 33380.0\n",
      "....................\n",
      "episode: 1640/2000, median profit so far: 33380.0\n",
      "....................\n",
      "episode: 1660/2000, median profit so far: 33377.0\n",
      "....................\n",
      "episode: 1680/2000, median profit so far: 33377.0\n",
      "....................\n",
      "episode: 1700/2000, median profit so far: 33355.0\n",
      "....................\n",
      "episode: 1720/2000, median profit so far: 33353.0\n",
      "....................\n",
      "episode: 1740/2000, median profit so far: 33322.0\n",
      "....................\n",
      "episode: 1760/2000, median profit so far: 33308.0\n",
      "....................\n",
      "episode: 1780/2000, median profit so far: 33277.0\n",
      "....................\n",
      "episode: 1800/2000, median profit so far: 33227.0\n",
      "....................\n",
      "episode: 1820/2000, median profit so far: 33210.0\n",
      "....................\n",
      "episode: 1840/2000, median profit so far: 33216.0\n",
      "....................\n",
      "episode: 1860/2000, median profit so far: 33207.0\n",
      "....................\n",
      "episode: 1880/2000, median profit so far: 33197.0\n",
      "....................\n",
      "episode: 1900/2000, median profit so far: 33184.0\n",
      "....................\n",
      "episode: 1920/2000, median profit so far: 33185.0\n",
      "....................\n",
      "episode: 1940/2000, median profit so far: 33190.0\n",
      "....................\n",
      "episode: 1960/2000, median profit so far: 33183.0\n",
      "....................\n",
      "episode: 1980/2000, median profit so far: 33145.0\n",
      "....................\n",
      "episode: 2000/2000, median profit so far: 33123.0\n"
     ]
    }
   ],
   "source": [
    "for e in range(episode):\n",
    "    state = env.reset()\n",
    "    state = scaler.transform([state])\n",
    "    for i in range(env.n_step):\n",
    "        action = agent.act(state)\n",
    "        next_state, reward, done = env.step(action)\n",
    "        next_state = scaler.transform([next_state])\n",
    "        agent.remember(state, action, reward, next_state, done)\n",
    "        state = next_state\n",
    "        if done:\n",
    "            print(\".\", end='')\n",
    "            if (e + 1) % 20 == 0:\n",
    "                print(\"\")\n",
    "                print(\"episode: {}/{}, median profit so far: {}\".format(\n",
    "                    e + 1, episode, median(train_results['value'].tolist())))\n",
    "            train_results = train_results.append(env._stats(), ignore_index=True)\n",
    "            break\n",
    "        if len(agent.memory) > batch_size:\n",
    "            agent.replay(batch_size)\n",
    "    if (e + 1) % 10 == 0:\n",
    "        agent.save('weights/{}-dqn.h5'.format(time.strftime('%Y%m%d%H%M')))"
   ]
  },
  {
   "cell_type": "code",
   "execution_count": 6,
   "metadata": {},
   "outputs": [
    {
     "data": {
      "image/png": "[encoded data removed]",
      "text/plain": [
       "<matplotlib.figure.Figure at 0x12b3eda90>"
      ]
     },
     "metadata": {
      "needs_background": "light"
     },
     "output_type": "display_data"
    }
   ],
   "source": [
    "train_results['profit'] = train_results['value'] - initial_invest\n",
    "columns_to_plot = ['win_loss_ratio', 'profit', 'trade_count']\n",
    "fig, axes = plt.subplots(nrows=1,ncols=len(columns_to_plot), figsize=(16,6))\n",
    "for i in range(len(columns_to_plot)):\n",
    "    axes[i].title.set_text(columns_to_plot[i])\n",
    "    train_results[columns_to_plot[i]].plot(ax=axes[i], subplots=True)\n",
    "plt.show()"
   ]
  },
  {
   "cell_type": "markdown",
   "metadata": {},
   "source": [
    "## Test"
   ]
  },
  {
   "cell_type": "code",
   "execution_count": 7,
   "metadata": {},
   "outputs": [
    {
     "name": "stdout",
     "output_type": "stream",
     "text": [
      "Model: \"sequential_2\"\n",
      "_________________________________________________________________\n",
      "Layer (type)                 Output Shape              Param #   \n",
      "=================================================================\n",
      "dense_4 (Dense)              (None, 32)                256       \n",
      "_________________________________________________________________\n",
      "dense_5 (Dense)              (None, 32)                1056      \n",
      "_________________________________________________________________\n",
      "dense_6 (Dense)              (None, 27)                891       \n",
      "=================================================================\n",
      "Total params: 2,203\n",
      "Trainable params: 2,203\n",
      "Non-trainable params: 0\n",
      "_________________________________________________________________\n",
      "None\n"
     ]
    }
   ],
   "source": [
    "state_size = env.observation_space.shape\n",
    "action_size = env.action_space.n\n",
    "agent = DQNAgent(state_size, action_size)\n",
    "scaler = get_scaler(env)\n",
    "test_portfolio_value = []"
   ]
  },
  {
   "cell_type": "code",
   "execution_count": 8,
   "metadata": {},
   "outputs": [
    {
     "name": "stdout",
     "output_type": "stream",
     "text": [
      "loading weights file: weights/201912040226-dqn.h5\n"
     ]
    }
   ],
   "source": [
    "# remake the env with test data\n",
    "env = TradingEnv(test_data, initial_invest)\n",
    "# load trained weights from latest saved\n",
    "latest_weights_file = max(glob.glob('weights/*.h5'), key=os.path.getctime)\n",
    "print('loading weights file: {0}'.format(latest_weights_file))\n",
    "agent.load(latest_weights_file)\n",
    "test_results = pd.DataFrame()"
   ]
  },
  {
   "cell_type": "code",
   "execution_count": 9,
   "metadata": {
    "scrolled": false
   },
   "outputs": [],
   "source": [
    "for e in range(episode):\n",
    "    state = env.reset()\n",
    "    state = scaler.transform([state])\n",
    "    for i in range(env.n_step):\n",
    "        action = agent.act(state)\n",
    "        next_state, reward, done = env.step(action)\n",
    "        next_state = scaler.transform([next_state])\n",
    "        state = next_state\n",
    "        if done:\n",
    "            test_results = test_results.append(env._stats(), ignore_index=True)\n",
    "            break"
   ]
  },
  {
   "cell_type": "code",
   "execution_count": 10,
   "metadata": {},
   "outputs": [],
   "source": [
    "test_results['profit'] = test_results['value'] - initial_invest"
   ]
  },
  {
   "cell_type": "code",
   "execution_count": 11,
   "metadata": {},
   "outputs": [
    {
     "name": "stdout",
     "output_type": "stream",
     "text": [
      "Median profit: 2699.5 (13.4975%)\n"
     ]
    }
   ],
   "source": [
    "print('Median profit: {0} ({1}%)'.format(\n",
    "    test_results['profit'].median(),\n",
    "    test_results['profit'].median() / initial_invest * 100\n",
    "))"
   ]
  },
  {
   "cell_type": "code",
   "execution_count": 12,
   "metadata": {},
   "outputs": [
    {
     "data": {
      "text/plain": [
       "array([[<matplotlib.axes._subplots.AxesSubplot object at 0x12dfb1310>]],\n",
       "      dtype=object)"
      ]
     },
     "execution_count": 12,
     "metadata": {},
     "output_type": "execute_result"
    },
    {
     "data": {
      "image/png": "[encoded data removed]",
      "text/plain": [
       "<matplotlib.figure.Figure at 0x12e087f10>"
      ]
     },
     "metadata": {
      "needs_background": "light"
     },
     "output_type": "display_data"
    }
   ],
   "source": [
    "test_results.hist(column='profit', bins=60)"
   ]
  },
  {
   "cell_type": "code",
   "execution_count": null,
   "metadata": {},
   "outputs": [],
   "source": []
  }
 ],
 "metadata": {
  "kernelspec": {
   "display_name": "Python 3",
   "language": "python",
   "name": "python3"
  },
  "language_info": {
   "codemirror_mode": {
    "name": "ipython",
    "version": 3
   },
   "file_extension": ".py",
   "mimetype": "text/x-python",
   "name": "python",
   "nbconvert_exporter": "python",
   "pygments_lexer": "ipython3",
   "version": "3.7.4"
  }
 },
 "nbformat": 4,
 "nbformat_minor": 2
}
